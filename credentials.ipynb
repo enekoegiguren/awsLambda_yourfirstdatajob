{
 "cells": [
  {
   "cell_type": "code",
   "execution_count": 9,
   "metadata": {},
   "outputs": [],
   "source": [
    "import boto3\n",
    "import json\n",
    "from botocore.exceptions import ClientError\n"
   ]
  },
  {
   "cell_type": "code",
   "execution_count": 10,
   "metadata": {},
   "outputs": [],
   "source": [
    "def get_secret():\n",
    "    secret_name = \"france_travail\"\n",
    "    region_name = \"eu-west-3\"\n",
    "\n",
    "    # Create a Secrets Manager client\n",
    "    session = boto3.session.Session()\n",
    "    client = session.client(\n",
    "        service_name='secretsmanager',\n",
    "        region_name=region_name\n",
    "    )\n",
    "\n",
    "    try:\n",
    "        get_secret_value_response = client.get_secret_value(\n",
    "            SecretId=secret_name\n",
    "        )\n",
    "    except ClientError as e:\n",
    "        # Raise the exception for any error that occurs\n",
    "        raise e\n",
    "\n",
    "    # Extract the secret string\n",
    "    secret_string = get_secret_value_response.get('SecretString')\n",
    "    \n",
    "    if secret_string:\n",
    "        # Parse the secret string as JSON\n",
    "        secret_dict = json.loads(secret_string)\n",
    "\n",
    "        # Extract client_id and client_secret\n",
    "        client_id = secret_dict.get('client_id')\n",
    "        client_secret = secret_dict.get('client_secret')\n",
    "\n",
    "        return client_id, client_secret\n",
    "    else:\n",
    "        raise ValueError(\"Secret is not in the expected format.\")\n",
    "\n"
   ]
  },
  {
   "cell_type": "code",
   "execution_count": 15,
   "metadata": {},
   "outputs": [],
   "source": [
    "client_id, client_secret = get_secret()"
   ]
  },
  {
   "cell_type": "code",
   "execution_count": 16,
   "metadata": {},
   "outputs": [
    {
     "data": {
      "text/plain": [
       "('PAR_jobdata_3f5f030da4c70e19d4269a13885a131fe3e5471b9bc020c03551275be1a5200f',\n",
       " '90a70a8c71f795d56c6787b3fbefed681b2aec620b84730ee3a29b8065904dfb')"
      ]
     },
     "execution_count": 16,
     "metadata": {},
     "output_type": "execute_result"
    }
   ],
   "source": [
    "client_id, client_secret"
   ]
  }
 ],
 "metadata": {
  "kernelspec": {
   "display_name": "myenv",
   "language": "python",
   "name": "python3"
  },
  "language_info": {
   "codemirror_mode": {
    "name": "ipython",
    "version": 3
   },
   "file_extension": ".py",
   "mimetype": "text/x-python",
   "name": "python",
   "nbconvert_exporter": "python",
   "pygments_lexer": "ipython3",
   "version": "3.10.11"
  }
 },
 "nbformat": 4,
 "nbformat_minor": 2
}
