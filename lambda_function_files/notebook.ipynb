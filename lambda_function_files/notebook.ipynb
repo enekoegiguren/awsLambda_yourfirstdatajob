{
 "cells": [
  {
   "cell_type": "code",
   "execution_count": 1,
   "metadata": {},
   "outputs": [],
   "source": [
    "from datetime import datetime, date, timedelta\n",
    "import os\n",
    "from dotenv import load_dotenv\n",
    "import re\n",
    "import pickle\n",
    "\n",
    "import pandas as pd\n",
    "from sqlalchemy import create_engine\n",
    "\n",
    "\n",
    "from utils.credentials import *\n",
    "from utils.get_data import *\n",
    "from utils.transform_data import *\n",
    "\n",
    "load_dotenv('.env')\n",
    "conn_url = os.getenv('DB_CONN_URL')\n",
    "ip = os.getenv('IP')\n",
    "\n",
    "\n",
    "client_id, client_secret = get_secret()\n"
   ]
  },
  {
   "cell_type": "code",
   "execution_count": 12,
   "metadata": {},
   "outputs": [],
   "source": [
    "def get_connection(conn_url):\n",
    "    engine = create_engine(conn_url)\n",
    "    \n",
    "    return engine\n",
    "\n",
    "\n",
    "def get_existing_ids():\n",
    "    conn = get_connection(conn_url)\n",
    "    query = \"SELECT id FROM ft_jobdata\"\n",
    "    existing_ids = pd.read_sql(query, conn)\n",
    "    return set(existing_ids['id'])\n",
    "\n",
    "def query():\n",
    "    conn = get_connection(conn_url)\n",
    "    query = \"SELECT * FROM ft_jobdata\"\n",
    "    query_result = pd.read_sql(query, conn)\n",
    "    return query_result\n",
    "\n",
    "def filter_new_rows(df, existing_ids):\n",
    "    return df[~df['id'].isin(existing_ids)]\n",
    "\n",
    "def append_to_db(df, conn_url):\n",
    "    conn = get_connection(conn_url)\n",
    "    with conn.begin():  # Commence une transaction\n",
    "        try:\n",
    "            df.to_sql('ft_jobdata', conn, if_exists='append', index=False)\n",
    "        except Exception as e:\n",
    "            print(f\"Erreur lors de l'insertion: {e}\")\n",
    "    \n",
    "def process_and_insert_data(min_data, max_data, max_results, mots, client_id, client_secret):\n",
    "    # Charger les données\n",
    "    df = get_data(min_data, max_data, max_results, mots, client_id, client_secret)\n",
    "    \n",
    "    # Classifier et préparer les données\n",
    "    df['job_category'] = df['title'].apply(classify_job_title)\n",
    "    df['chef'] = df['title'].apply(classify_job_title_chef)\n",
    "    df = df[df['job_category'] != 'Other']\n",
    "    \n",
    "    df = dates(df)\n",
    "    df = skills(df)\n",
    "    \n",
    "    # Ajouter la date d'extraction\n",
    "    extracted_date = datetime.now().strftime('%Y-%m-%d')\n",
    "    df['extracted_date'] = extracted_date\n",
    "    \n",
    "    df = df.rename(columns = {'power bi':'power_bi',\n",
    "                              'data warehouse':'data_warehouse',\n",
    "                              'data lake':'data_lake',\n",
    "                              'power query':'power_query',\n",
    "                              'machine learning':'machine_learning',\n",
    "                              'deep learning':'deep_learning',\n",
    "                              'data governance':'data_governance',\n",
    "                              'azure devops':'azure_devops'})\n",
    "    \n",
    "    df['experience_bool'] = df['experience_bool'].apply(map_experience)\n",
    "    df['experience'] = df['experience'].apply(extract_experience)\n",
    "    salary_data = df['salary'].apply(extract_salary)\n",
    "\n",
    "    # Création des nouvelles colonnes pour le salaire minimum, maximum et moyen\n",
    "    df['min_salary'] = salary_data.apply(lambda x: x['min_salary'])\n",
    "    df['max_salary'] = salary_data.apply(lambda x: x['max_salary'])\n",
    "    df['avg_salary'] = salary_data.apply(lambda x: x['avg_salary'])\n",
    "    df.drop(columns=['salary'], inplace=True)\n",
    "    \n",
    "\n",
    "    existing_ids = get_existing_ids()\n",
    "    new_rows = filter_new_rows(df, existing_ids)\n",
    "\n",
    "    if not new_rows.empty:\n",
    "        append_to_db(new_rows, conn_url)\n",
    "    else:\n",
    "        print(\"Aucune nouvelle donnée à insérer\")\n",
    "        \n",
    "def full_charge():\n",
    "    min_data = '2022-01-01'\n",
    "    extracted_date = datetime.now().strftime('%Y-%m-%d')\n",
    "    #max_data = '2024-10-19'\n",
    "    max_results = 3000\n",
    "    mots = 'data'\n",
    "\n",
    "    df = process_and_insert_data(min_data, extracted_date, max_results, mots, client_id, client_secret)\n",
    "    \n",
    "def last_month_charge():\n",
    "    #first day of the month\n",
    "    current_date = datetime.now()\n",
    "    first_day_of_current_month = current_date.replace(day=1)\n",
    "    first_day_str = first_day_of_current_month.strftime('%Y-%m-%d')\n",
    "    \n",
    "    #current date\n",
    "    extracted_date = datetime.now().strftime('%Y-%m-%d')\n",
    "    max_results = 3000\n",
    "    mots = 'data'\n",
    "\n",
    "    df = process_and_insert_data(first_day_str, extracted_date, max_results, mots, client_id, client_secret)\n",
    "    \n",
    "def requested_date_charge(first_date, last_date):\n",
    "    #first day of the month\n",
    "    first_date = datetime.strptime(first_date, '%Y-%m-%d')\n",
    "    last_date = datetime.strptime(last_date, '%Y-%m-%d')\n",
    "    \n",
    "    first_day_str = first_date.strftime('%Y-%m-%d')\n",
    "    last_day_str = last_date.strftime('%Y-%m-%d')\n",
    "    #current date\n",
    "    max_results = 3000\n",
    "    mots = 'data'\n",
    "\n",
    "    df = process_and_insert_data(first_day_str, last_day_str, max_results, mots, client_id, client_secret)\n",
    "    "
   ]
  },
  {
   "cell_type": "code",
   "execution_count": 11,
   "metadata": {},
   "outputs": [
    {
     "name": "stdout",
     "output_type": "stream",
     "text": [
      "Aucune nouvelle donnée à insérer\n"
     ]
    }
   ],
   "source": [
    "first_date = datetime.strptime('2024-02-01', '%Y-%m-%d')\n",
    "last_date = datetime.strptime('2024-03-30', '%Y-%m-%d')\n",
    "\n",
    "requested_date_charge(first_date, last_date)"
   ]
  },
  {
   "cell_type": "code",
   "execution_count": 3,
   "metadata": {},
   "outputs": [
    {
     "name": "stdout",
     "output_type": "stream",
     "text": [
      "Aucune nouvelle donnée à insérer\n"
     ]
    }
   ],
   "source": [
    "full_charge()"
   ]
  },
  {
   "cell_type": "code",
   "execution_count": 4,
   "metadata": {},
   "outputs": [],
   "source": [
    "df = query()"
   ]
  }
 ],
 "metadata": {
  "kernelspec": {
   "display_name": "myenv",
   "language": "python",
   "name": "python3"
  },
  "language_info": {
   "codemirror_mode": {
    "name": "ipython",
    "version": 3
   },
   "file_extension": ".py",
   "mimetype": "text/x-python",
   "name": "python",
   "nbconvert_exporter": "python",
   "pygments_lexer": "ipython3",
   "version": "3.10.11"
  }
 },
 "nbformat": 4,
 "nbformat_minor": 2
}
